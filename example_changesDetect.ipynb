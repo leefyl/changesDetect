{
 "cells": [
  {
   "cell_type": "markdown",
   "metadata": {},
   "source": [
    "for a single folder"
   ]
  },
  {
   "cell_type": "code",
   "execution_count": 3,
   "metadata": {},
   "outputs": [
    {
     "name": "stdout",
     "output_type": "stream",
     "text": [
      "[416, 416, 53, 487, 674]\n",
      "[]\n"
     ]
    }
   ],
   "source": [
    "#   assuming the file 'functions_changesDetect' is in the same directory\n",
    "from functions_changesDetect import *\n",
    "\n",
    "\n",
    "# res = getSignal('H:/Eisvogel_frames/SSAA-277550-BDBEB_220504/P220504_050000_050500/' )\n",
    "res = getSignal('/Users/on/yop/4job/SpOeko/data/', nFrameForBaseline=2 )\n",
    "print(res)\n",
    "frameOfInt = returnFrameOfInterestIndexes(res, timePdiff=1)\n",
    "print(frameOfInt)\n"
   ]
  },
  {
   "attachments": {},
   "cell_type": "markdown",
   "metadata": {},
   "source": [
    "for a folder containing subfolder which themselves contain the frames\n"
   ]
  },
  {
   "cell_type": "code",
   "execution_count": 12,
   "metadata": {},
   "outputs": [
    {
     "name": "stdout",
     "output_type": "stream",
     "text": [
      "H:/Eisvogel_frames/SSAA-277550-BDBEB_220504/\n"
     ]
    },
    {
     "name": "stderr",
     "output_type": "stream",
     "text": [
      "  3%|▎         | 4/157 [06:10<3:54:40, 92.03s/it]"
     ]
    }
   ],
   "source": [
    "import os\n",
    "from tqdm import tqdm\n",
    "#   assuming the file 'functions_changesDetect' is in the same directory\n",
    "from functions_changesDetect import *\n",
    "\n",
    "\n",
    "##  test on all folders from that pathFolder\n",
    "manyFolders = [ \n",
    "                \"H:/Eisvogel_frames/SSAA-277550-BDBEB_220504/\",\n",
    "                \"H:/Eisvogel_frames/SSAA-277550-BDBEB_220516/\",\n",
    "                ]\n",
    "\n",
    "pathRes = \"\" # where to save the results\n",
    "\n",
    "timeRecord = []\n",
    "for pathFolder in manyFolders:\n",
    "\n",
    "    # get a list of all folders located in the main folder\n",
    "    folderList = os.listdir(pathFolder)\n",
    "    folderList = [i + '/' for i in folderList]\n",
    "\n",
    "    # declare dictionary that we want to save\n",
    "    dicAllRes = {}\n",
    "    dicFrameOfInterest = {}\n",
    "    for folder in tqdm(folderList):\n",
    "        # get results for sub folder\n",
    "        res = getSignal(pathFolder + folder)\n",
    "        dicAllRes[folder] = res\n",
    "        # check that there were enough frames in the folder. Thus, res is different than 0\n",
    "        if res != 0:\n",
    "            # filter results based on the difference with the pix following it \n",
    "            frameOfInt = returnFrameOfInterestIndexes(res)\n",
    "\n",
    "            if (len(frameOfInt) > 0):\n",
    "                dicFrameOfInterest[folder] = frameOfInt\n",
    "\n",
    "print(dicAllRes)\n",
    "print(dicFrameOfInterest)"
   ]
  }
 ],
 "metadata": {
  "kernelspec": {
   "display_name": "sp",
   "language": "python",
   "name": "python3"
  },
  "language_info": {
   "codemirror_mode": {
    "name": "ipython",
    "version": 3
   },
   "file_extension": ".py",
   "mimetype": "text/x-python",
   "name": "python",
   "nbconvert_exporter": "python",
   "pygments_lexer": "ipython3",
   "version": "3.10.8"
  },
  "orig_nbformat": 4,
  "vscode": {
   "interpreter": {
    "hash": "194edc2e27b03209f83965f22bd8442341145683995411e03c3a8467cb619efd"
   }
  }
 },
 "nbformat": 4,
 "nbformat_minor": 2
}
