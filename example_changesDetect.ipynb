{
 "cells": [
  {
   "cell_type": "code",
   "execution_count": 12,
   "metadata": {},
   "outputs": [
    {
     "name": "stdout",
     "output_type": "stream",
     "text": [
      "H:/Eisvogel_frames/SSAA-277550-BDBEB_220504/\n"
     ]
    },
    {
     "name": "stderr",
     "output_type": "stream",
     "text": [
      "  3%|▎         | 4/157 [06:10<3:54:40, 92.03s/it]"
     ]
    }
   ],
   "source": [
    "import os\n",
    "from PIL import Image\n",
    "from PIL import ImageFilter\n",
    "import numpy as np\n",
    "import json\n",
    "from tqdm import tqdm\n",
    "#   assuming the file 'functions_changesDetect' is in the same directory\n",
    "from functions_changesDetect import *\n",
    "\n",
    "\n",
    "##  test on all folders from that pathFolder\n",
    "manyFolders = [ \n",
    "                \"H:/Eisvogel_frames/SSAA-277550-BDBEB_220504/\",\n",
    "                \"H:/Eisvogel_frames/SSAA-277550-BDBEB_220516/\",\n",
    "                ]\n",
    "\n",
    "pathRes = \"\" # where to save the results\n",
    "\n",
    "timeRecord = []\n",
    "for pathFolder in manyFolders:\n",
    "\n",
    "    # get a list of all folders located in the main folder\n",
    "    folderList = os.listdir(pathFolder)\n",
    "    folderList = [i + '/' for i in folderList]\n",
    "\n",
    "    # declare dictionary that we want to save\n",
    "    dicAllRes = {}\n",
    "    dicFrameOfInterest = {}\n",
    "    for folder in tqdm(folderList):\n",
    "        # get results for sub folder\n",
    "        res = getSignal(pathFolder + folder, doSmooth = True, nFrameForBaseline = nFrameForBaseline, noiseThreshold = 50, RGBframeToUse = 2)\n",
    "        dicAllRes[folder] = res\n",
    "        # check that there were enough frames in the folder. Thus, res is different than 0\n",
    "        if res != 0:\n",
    "            # filter results based on the difference with the pix following it \n",
    "            frameOfInt = returnFrameOfInterestIndexes(res)\n",
    "\n",
    "            if (len(frameOfInt) > 0):\n",
    "                dicFrameOfInterest[folder] = frameOfInt\n",
    "\n",
    "    f = open(pathRes + pathFolder.split(\"/\")[2] + \"allResults.txt\",\"w\") # open file for writing\n",
    "    f.write( json.dumps(dicAllRes) )   # write file\n",
    "    f.close()   # close file\n",
    "    f = open(pathRes + pathFolder.split(\"/\")[2] + \"frameOfInt.txt\",\"w\") # open file for writing\n",
    "    f.write( json.dumps(dicFrameOfInterest) )   # write file\n",
    "    f.close()   # close file"
   ]
  }
 ],
 "metadata": {
  "kernelspec": {
   "display_name": "sp",
   "language": "python",
   "name": "python3"
  },
  "language_info": {
   "codemirror_mode": {
    "name": "ipython",
    "version": 3
   },
   "file_extension": ".py",
   "mimetype": "text/x-python",
   "name": "python",
   "nbconvert_exporter": "python",
   "pygments_lexer": "ipython3",
   "version": "3.10.8 (v3.10.8:aaaf517424, Oct 11 2022, 10:14:40) [Clang 13.0.0 (clang-1300.0.29.30)]"
  },
  "orig_nbformat": 4,
  "vscode": {
   "interpreter": {
    "hash": "194edc2e27b03209f83965f22bd8442341145683995411e03c3a8467cb619efd"
   }
  }
 },
 "nbformat": 4,
 "nbformat_minor": 2
}
